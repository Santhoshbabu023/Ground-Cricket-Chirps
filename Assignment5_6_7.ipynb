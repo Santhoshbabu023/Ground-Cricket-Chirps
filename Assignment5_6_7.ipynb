{
  "cells": [
    {
      "cell_type": "code",
      "execution_count": 2,
      "metadata": {
        "id": "TiLnLtb0VVUg"
      },
      "outputs": [],
      "source": [
        "import pandas as pd\n",
        "import matplotlib.pyplot as plt\n",
        "import numpy as np\n",
        "from sklearn import linear_model"
      ]
    },
    {
      "cell_type": "markdown",
      "metadata": {
        "id": "GP84JRS_VVUp"
      },
      "source": [
        "# Assignment5\n"
      ]
    },
    {
      "cell_type": "markdown",
      "metadata": {
        "id": "tzrKt1RGVVUt"
      },
      "source": [
        "## Ground Cricket Chirps\n",
        "\n",
        "In _The Song of Insects_ (1948) by George W. Pierce, Pierce mechanically measured the frequency (the number of wing vibrations per second) of chirps (or pulses of sound) made by a striped ground cricket, at various ground temperatures.  Since crickets are ectotherms (cold-blooded), the rate of their physiological processes and their overall metabolism are influenced by temperature.  Consequently, there is reason to believe that temperature would have a profound effect on aspects of their behavior, such as chirp frequency.\n",
        "\n",
        "In general, it was found that crickets did not sing at temperatures colder than 60º F. or warmer than 100º F."
      ]
    },
    {
      "cell_type": "code",
      "execution_count": 3,
      "metadata": {
        "id": "zXkFGByFVVUw"
      },
      "outputs": [],
      "source": [
        "ground_cricket_data = {\"Chirps/Second\": [20.0, 16.0, 19.8, 18.4, 17.1, 15.5, 14.7,\n",
        "                                         15.7, 15.4, 16.3, 15.0, 17.2, 16.0, 17.0,\n",
        "                                         14.4],\n",
        "                       \"Ground Temperature\": [88.6, 71.6, 93.3, 84.3, 80.6, 75.2, 69.7,\n",
        "                                              71.6, 69.4, 83.3, 79.6, 82.6, 80.6, 83.5,\n",
        "                                              76.3]}\n",
        "df = pd.DataFrame(ground_cricket_data)\n"
      ]
    },
    {
      "cell_type": "markdown",
      "metadata": {
        "id": "p68dY94CVVUx"
      },
      "source": [
        "### Tasks\n",
        "\n",
        "1. Find the linear regression equation for this data.\n",
        "2. Chart the original data and the equation on the chart.\n",
        "3. Find the equation's $R^2$ score (use the `.score` method) to determine whether the\n",
        "equation is a good fit for this data. (0.8 and greater is considered a strong correlation.)\n",
        "4. Extrapolate data:  If the ground temperature reached 95, then at what approximate rate would you expect the crickets to be chirping?\n",
        "5. Interpolate data:  With a listening device, you discovered that on a particular morning the crickets were chirping at a rate of 18 chirps per second.  What was the approximate ground temperature that morning? "
      ]
    },
    {
      "cell_type": "markdown",
      "source": [
        "Task 1"
      ],
      "metadata": {
        "id": "fWEynyaBJcDa"
      }
    },
    {
      "cell_type": "code",
      "source": [
        "regr_gc = linear_model.LinearRegression()\n",
        "ground_temp = df[['Ground Temperature']]\n",
        "chirps_sec = df['Chirps/Second']\n",
        "regr_gc.fit(ground_temp, chirps_sec)"
      ],
      "metadata": {
        "id": "UbDzzZ23WS0c",
        "outputId": "266f1bff-f873-4326-aea2-a8c5fc2c3bff",
        "colab": {
          "base_uri": "https://localhost:8080/"
        }
      },
      "execution_count": 4,
      "outputs": [
        {
          "output_type": "execute_result",
          "data": {
            "text/plain": [
              "LinearRegression()"
            ]
          },
          "metadata": {},
          "execution_count": 4
        }
      ]
    },
    {
      "cell_type": "code",
      "source": [
        "print('Linear Regression Equation: y = {:.4f} * x + {:.4f}'.format(regr_gc.coef_[0], regr_gc.intercept_))"
      ],
      "metadata": {
        "id": "CrYw2jKMWfa_",
        "outputId": "e0c9956f-f96f-45d9-93ed-5e18eda70ddd",
        "colab": {
          "base_uri": "https://localhost:8080/"
        }
      },
      "execution_count": 5,
      "outputs": [
        {
          "output_type": "stream",
          "name": "stdout",
          "text": [
            "Linear Regression Equation: y = 0.2030 * x + 0.4593\n"
          ]
        }
      ]
    },
    {
      "cell_type": "markdown",
      "source": [
        "Task 2"
      ],
      "metadata": {
        "id": "mPJEOpzWJfOg"
      }
    },
    {
      "cell_type": "code",
      "source": [
        "plt.scatter(ground_temp, chirps_sec, color='m')\n",
        "plt.plot(ground_temp, regr_gc.predict(ground_temp))\n",
        "plt.xlabel('Ground Temp')\n",
        "plt.ylabel('Chirps/Sec')\n",
        "plt.show()"
      ],
      "metadata": {
        "id": "wQd_B9HOaBBK",
        "outputId": "7a85a701-d10a-4b1d-db96-0fda4a82f1fa",
        "colab": {
          "base_uri": "https://localhost:8080/",
          "height": 279
        }
      },
      "execution_count": 6,
      "outputs": [
        {
          "output_type": "display_data",
          "data": {
            "text/plain": [
              "<Figure size 432x288 with 1 Axes>"
            ],
            "image/png": "[encoded data removed]"
          },
          "metadata": {
            "needs_background": "light"
          }
        }
      ]
    },
    {
      "cell_type": "markdown",
      "source": [
        "Task 3"
      ],
      "metadata": {
        "id": "_wzB9nmFJjP-"
      }
    },
    {
      "cell_type": "code",
      "source": [
        "print('R^2 score for this equation: {:.4f}'.format(regr_gc.score(ground_temp, chirps_sec)))\n",
        "#The equation is not good fit for the given data"
      ],
      "metadata": {
        "id": "pAUqUXF9akGQ",
        "outputId": "6a210101-3ec8-4c22-a20a-5193fa01395c",
        "colab": {
          "base_uri": "https://localhost:8080/"
        }
      },
      "execution_count": 7,
      "outputs": [
        {
          "output_type": "stream",
          "name": "stdout",
          "text": [
            "R^2 score for this equation: 0.6923\n"
          ]
        }
      ]
    },
    {
      "cell_type": "markdown",
      "source": [
        "Task 5"
      ],
      "metadata": {
        "id": "TVAmwA35JmAR"
      }
    },
    {
      "cell_type": "code",
      "source": [
        "(18 - regr_gc.intercept_) / regr_gc.coef_"
      ],
      "metadata": {
        "id": "FZiACXmehzJp",
        "outputId": "6eb11a71-b883-4be2-d4bb-e7707a529d8f",
        "colab": {
          "base_uri": "https://localhost:8080/"
        }
      },
      "execution_count": 10,
      "outputs": [
        {
          "output_type": "execute_result",
          "data": {
            "text/plain": [
              "array([86.40743135])"
            ]
          },
          "metadata": {},
          "execution_count": 10
        }
      ]
    },
    {
      "cell_type": "markdown",
      "metadata": {
        "id": "EcFacrepVVUy"
      },
      "source": [
        "# Assignment6"
      ]
    },
    {
      "cell_type": "markdown",
      "metadata": {
        "id": "OxQBrBhHVVU0"
      },
      "source": [
        "## Brain vs. Body Weight\n",
        "\n",
        "In the file `brain_body.txt`, the average brain and body weight for a number of mammal species are recorded. Load this data into a Pandas data frame.\n",
        "\n",
        "### Tasks\n",
        "\n",
        "1. Find the linear regression equation for this data for brain weight to body weight.\n",
        "2. Chart the original data and the equation on the chart.\n",
        "3. Find the equation's $R^2$ score (use the `.score` method) to determine whether the\n",
        "equation is a good fit for this data. (0.8 and greater is considered a strong correlation.)"
      ]
    },
    {
      "cell_type": "code",
      "execution_count": 85,
      "metadata": {
        "id": "xXsYg_OVVVU2"
      },
      "outputs": [],
      "source": [
        "df = pd.read_fwf(\"/content/brain_body (1).txt\")"
      ]
    },
    {
      "cell_type": "markdown",
      "metadata": {
        "id": "0ykAuilJVVU3"
      },
      "source": [
        "# Assignment7"
      ]
    },
    {
      "cell_type": "markdown",
      "source": [
        "Task 1"
      ],
      "metadata": {
        "id": "lODf65w5JR_K"
      }
    },
    {
      "cell_type": "code",
      "source": [
        "regr_bb = linear_model.LinearRegression()\n",
        "body = df[['Body']]\n",
        "brain = df['Brain']\n",
        "regr_bb.fit(body, brain)"
      ],
      "metadata": {
        "id": "updeHLgC6Ual",
        "outputId": "f19f0e5a-1a40-4642-a4f8-62f79c5e0e6b",
        "colab": {
          "base_uri": "https://localhost:8080/"
        }
      },
      "execution_count": 81,
      "outputs": [
        {
          "output_type": "execute_result",
          "data": {
            "text/plain": [
              "LinearRegression()"
            ]
          },
          "metadata": {},
          "execution_count": 81
        }
      ]
    },
    {
      "cell_type": "code",
      "source": [
        "print('Linear Regression Equation: y = {:.4f} * x + {:.4f}'\n",
        "      .format(regr_bb.coef_[0], regr_bb.intercept_))"
      ],
      "metadata": {
        "id": "Kwu2pdjb7sVt",
        "outputId": "ae7b2ba6-e871-41c5-e330-dffbafb7951f",
        "colab": {
          "base_uri": "https://localhost:8080/"
        }
      },
      "execution_count": 82,
      "outputs": [
        {
          "output_type": "stream",
          "name": "stdout",
          "text": [
            "Linear Regression Equation: y = 0.9029 * x + -56.8555\n"
          ]
        }
      ]
    },
    {
      "cell_type": "markdown",
      "source": [
        "Task 2"
      ],
      "metadata": {
        "id": "JPmilsCYJVpq"
      }
    },
    {
      "cell_type": "code",
      "source": [
        "plt.scatter(body, brain, color='m')\n",
        "plt.plot(body, regr_bb.predict(body))\n",
        "plt.title('Brain Weight by Body Weight')\n",
        "plt.xlabel('Body Weight')\n",
        "plt.ylabel('Brain Weight')\n",
        "plt.show()"
      ],
      "metadata": {
        "id": "N_bXIZTN74vT",
        "outputId": "ed863b31-2b29-4fe7-8543-5241d334260f",
        "colab": {
          "base_uri": "https://localhost:8080/",
          "height": 295
        }
      },
      "execution_count": 83,
      "outputs": [
        {
          "output_type": "display_data",
          "data": {
            "text/plain": [
              "<Figure size 432x288 with 1 Axes>"
            ],
            "image/png": "[encoded data removed]"
          },
          "metadata": {
            "needs_background": "light"
          }
        }
      ]
    },
    {
      "cell_type": "markdown",
      "source": [
        "Task 3"
      ],
      "metadata": {
        "id": "fyiwwvwhJXjJ"
      }
    },
    {
      "cell_type": "code",
      "source": [
        "print('R^2 score for this equation: {:.4f}'\n",
        "      .format(regr_bb.score(body, brain)))"
      ],
      "metadata": {
        "id": "udwLKwKf79CH",
        "outputId": "249b3579-cd3f-44cf-bd97-34adc64ef1ee",
        "colab": {
          "base_uri": "https://localhost:8080/"
        }
      },
      "execution_count": 84,
      "outputs": [
        {
          "output_type": "stream",
          "name": "stdout",
          "text": [
            "R^2 score for this equation: 0.8727\n"
          ]
        }
      ]
    },
    {
      "cell_type": "markdown",
      "metadata": {
        "id": "7aSBMyxcVVU4"
      },
      "source": [
        "## Salary Discrimination\n",
        "\n",
        "The file `salary.txt` contains data for 52 tenure-track professors at a small Midwestern college. This data was used in legal proceedings in the 1980s about discrimination against women in salary.\n",
        "\n",
        "The data in the file, by column:\n",
        "\n",
        "1. Sex. 1 for female, 0 for male.\n",
        "2. Rank. 1 for assistant professor, 2 for associate professor, 3 for full professor.\n",
        "3. Year. Number of years in current rank.\n",
        "4. Degree. Highest degree. 1 for doctorate, 0 for master's.\n",
        "5. YSdeg. Years since highest degree was earned.\n",
        "6. Salary. Salary/year in dollars.\n",
        "\n",
        "### Tasks\n",
        "\n",
        "1. Find the linear regression equation for this data using columns 1-5 to column 6.\n",
        "2. Find the selection of columns with the best $R^2$ score.\n",
        "3. Report whether sex is a factor in salary."
      ]
    },
    {
      "cell_type": "code",
      "execution_count": 124,
      "metadata": {
        "id": "ZjLq-AP8VVU6"
      },
      "outputs": [],
      "source": [
        "df = pd.read_fwf(\"/content/salary.txt\", header=None, \n",
        "                 names=[\"Sex\", \"Rank\", \"Year\", \"Degree\", \"YSdeg\", \"Salary\"])"
      ]
    },
    {
      "cell_type": "code",
      "source": [
        "salary_discrim_cols = ['Sex', 'Rank', 'Year', 'Degree', 'YSdeg']\n"
      ],
      "metadata": {
        "id": "1uo9XMc08djE"
      },
      "execution_count": 125,
      "outputs": []
    },
    {
      "cell_type": "markdown",
      "source": [
        "Task 1"
      ],
      "metadata": {
        "id": "ZwSGO6oHJGq1"
      }
    },
    {
      "cell_type": "code",
      "source": [
        "def lin_reg_eq_print(salary_discrim_cols, df):\n",
        "    input_cols = df[salary_discrim_cols]\n",
        "    salary = df['Salary']\n",
        "    regr_sd = linear_model.LinearRegression()\n",
        "    regr_sd.fit(input_cols, salary)\n",
        "    print((salary_discrim_cols, regr_sd.coef_, regr_sd.intercept_))"
      ],
      "metadata": {
        "id": "ODr9Tg6e8q03"
      },
      "execution_count": 126,
      "outputs": []
    },
    {
      "cell_type": "code",
      "source": [
        "lin_reg_eq_print(salary_discrim_cols, df)"
      ],
      "metadata": {
        "id": "X5zlLLjL86pq",
        "outputId": "8a1f46b7-ca08-4753-c334-2dbd1b9dbd4c",
        "colab": {
          "base_uri": "https://localhost:8080/"
        }
      },
      "execution_count": 127,
      "outputs": [
        {
          "output_type": "stream",
          "name": "stdout",
          "text": [
            "(['Sex', 'Rank', 'Year', 'Degree', 'YSdeg'], array([ 1241.7924996 ,  5586.18144952,   482.85976783, -1331.64406341,\n",
            "        -128.79057354]), 11410.14654725559)\n"
          ]
        }
      ]
    },
    {
      "cell_type": "markdown",
      "source": [
        "Task 2"
      ],
      "metadata": {
        "id": "-dmGMUuMJJlG"
      }
    },
    {
      "cell_type": "code",
      "source": [
        "def lin_reg_wrt_focus(salary_discrim_cols, df, focus='Salary'):\n",
        "    input_cols = df[salary_discrim_cols]\n",
        "    focus_output = df[focus]\n",
        "    regr_sd = linear_model.LinearRegression()\n",
        "    regr_sd.fit(input_cols, focus_output)\n",
        "    return regr_sd.score(input_cols, focus_output)"
      ],
      "metadata": {
        "id": "pJRXpLmq96WP"
      },
      "execution_count": 128,
      "outputs": []
    },
    {
      "cell_type": "code",
      "source": [
        "print((lin_reg_wrt_focus(salary_discrim_cols, df)))"
      ],
      "metadata": {
        "id": "JfO9qeGY-XL-",
        "outputId": "470d98a7-c4d6-48db-ce35-34940491da25",
        "colab": {
          "base_uri": "https://localhost:8080/"
        }
      },
      "execution_count": 129,
      "outputs": [
        {
          "output_type": "stream",
          "name": "stdout",
          "text": [
            "0.8547180674410969\n"
          ]
        }
      ]
    },
    {
      "cell_type": "markdown",
      "source": [
        "Task 3"
      ],
      "metadata": {
        "id": "qru554FrJMSx"
      }
    },
    {
      "cell_type": "code",
      "source": [
        "num_by_sex = df.Sex.value_counts()\n",
        "print('Num men: {}\\nNum women: {}'.format(num_by_sex[0], num_by_sex[1]))"
      ],
      "metadata": {
        "id": "ibuC1lGvIvU2",
        "outputId": "25010f93-90ab-4c1d-afdf-265b4aa115f9",
        "colab": {
          "base_uri": "https://localhost:8080/"
        }
      },
      "execution_count": 133,
      "outputs": [
        {
          "output_type": "stream",
          "name": "stdout",
          "text": [
            "Num men: 38\n",
            "Num women: 14\n"
          ]
        }
      ]
    },
    {
      "cell_type": "code",
      "source": [
        "df.pivot_table(index=df.index, columns='Sex', values='Salary') \\\n",
        "    .plot(kind='hist', alpha=0.7, stacked=True, bins=20, title='Salary by Sex')\n",
        "plt.xlabel('Dollars')\n",
        "plt.ylabel('Faculty')\n",
        "plt.show()"
      ],
      "metadata": {
        "id": "N_QRtacfI1Et",
        "outputId": "67b5eca8-07c9-42bc-ff02-659f88abc142",
        "colab": {
          "base_uri": "https://localhost:8080/",
          "height": 295
        }
      },
      "execution_count": 135,
      "outputs": [
        {
          "output_type": "display_data",
          "data": {
            "text/plain": [
              "<Figure size 432x288 with 1 Axes>"
            ],
            "image/png": "[encoded data removed]"
          },
          "metadata": {
            "needs_background": "light"
          }
        }
      ]
    }
  ],
  "metadata": {
    "kernelspec": {
      "display_name": "Python 3",
      "language": "python",
      "name": "python3"
    },
    "language_info": {
      "codemirror_mode": {
        "name": "ipython",
        "version": 3
      },
      "file_extension": ".py",
      "mimetype": "text/x-python",
      "name": "python",
      "nbconvert_exporter": "python",
      "pygments_lexer": "ipython3",
      "version": "3.8.3"
    },
    "colab": {
      "provenance": []
    }
  },
  "nbformat": 4,
  "nbformat_minor": 0
}